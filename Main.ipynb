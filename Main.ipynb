{
 "cells": [
  {
   "cell_type": "code",
   "execution_count": 1,
   "metadata": {},
   "outputs": [],
   "source": [
    "import numpy as np\n",
    "arr=np.array([[11,12,13],[10,11,22]])"
   ]
  },
  {
   "cell_type": "code",
   "execution_count": 10,
   "metadata": {},
   "outputs": [
    {
     "name": "stdout",
     "output_type": "stream",
     "text": [
      "2 4\n",
      "3 4\n",
      "\n",
      "[2, 4]\n",
      "[3, 4]\n",
      "4 4 \n",
      "\n",
      "2 3 \n",
      "\n"
     ]
    }
   ],
   "source": [
    "mat=[]\n",
    "while(1):\n",
    "    try:\n",
    "        x=list(input().split())\n",
    "        if x==[]:\n",
    "            break\n",
    "    except:\n",
    "        break\n",
    "    mat.append(x)\n",
    "n=len(mat[0])\n",
    "mat2=[]\n",
    "for i in range(n-1,-1,-1):\n",
    "    mat2.append([sub[i] for sub in mat])\n",
    "for i in range(len(mat2)):\n",
    "    for j in range(len(mat2[0])):\n",
    "        print(f\"{mat2[i][j]}\",end=\" \")\n",
    "    if i!=n-1:\n",
    "        print(\"\")"
   ]
  },
  {
   "cell_type": "code",
   "execution_count": null,
   "metadata": {},
   "outputs": [],
   "source": [
    "mat=[]\n",
    "while(1):\n",
    "    try:\n",
    "        x=list(input().split())\n",
    "        if x==[]:\n",
    "            break\n",
    "    except:\n",
    "        break\n",
    "    mat.append(x)\n",
    "n=len(mat[0])\n",
    "mat2=[]\n",
    "for i in range(n-1,-1,-1):\n",
    "    mat2.append([sub[i] for sub in mat])\n",
    "for i in range(len(mat2)):\n",
    "    for j in range(len(mat2[0])):\n",
    "        if j!=n-1:\n",
    "            print(f\"{mat2[i][j]}\",end=\" \")\n",
    "        else:\n",
    "            print(mat2[i][j][:-1],end=\"\")\n",
    "    if i!=n-1:\n",
    "        print(\"\")"
   ]
  }
 ],
 "metadata": {
  "kernelspec": {
   "display_name": "Python 3",
   "language": "python",
   "name": "python3"
  },
  "language_info": {
   "codemirror_mode": {
    "name": "ipython",
    "version": 3
   },
   "file_extension": ".py",
   "mimetype": "text/x-python",
   "name": "python",
   "nbconvert_exporter": "python",
   "pygments_lexer": "ipython3",
   "version": "3.8.3"
  }
 },
 "nbformat": 4,
 "nbformat_minor": 4
}
