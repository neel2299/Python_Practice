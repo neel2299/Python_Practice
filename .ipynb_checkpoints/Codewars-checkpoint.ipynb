{
 "cells": [
  {
   "cell_type": "code",
   "execution_count": null,
   "metadata": {},
   "outputs": [],
   "source": [
    "import numpy as np\n",
    "def mark(matrix, x,y):\n",
    "    for i in len(matrix):\n",
    "        matrix[x][i]=1\n",
    "        matrix[i][y]=1\n",
    "        #diagonal 1 is from left to right \n",
    "        if x>y:\n",
    "            diag1_x,diag1_y=x-y,0\n",
    "            diag2_x,diag2_y=0,\n",
    "        matrix[x-]\n",
    "def solve_n_queens(n, fixed_queen):\n",
    "    matrix=np.zeros((n,n))\n",
    "    x,y=fixed_queen\n",
    "    for i in range(n):\n",
    "        mark(matrix)\n",
    "        dat=np.where(matrix==0)\n",
    "        print(dat[0], dat[1])\n",
    "    return matrix"
   ]
  }
 ],
 "metadata": {
  "kernelspec": {
   "display_name": "Python 3",
   "language": "python",
   "name": "python3"
  },
  "language_info": {
   "codemirror_mode": {
    "name": "ipython",
    "version": 3
   },
   "file_extension": ".py",
   "mimetype": "text/x-python",
   "name": "python",
   "nbconvert_exporter": "python",
   "pygments_lexer": "ipython3",
   "version": "3.8.3"
  }
 },
 "nbformat": 4,
 "nbformat_minor": 4
}
