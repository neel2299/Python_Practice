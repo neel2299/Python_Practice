{
 "cells": [
  {
   "cell_type": "code",
   "execution_count": 3,
   "metadata": {},
   "outputs": [
    {
     "name": "stdout",
     "output_type": "stream",
     "text": [
      "5\n"
     ]
    }
   ],
   "source": [
    "# # PRIMES LESS THAN NUMBER n\n",
    "# lis=[2]\n",
    "# for i in range(2,100):\n",
    "#     temp=0\n",
    "#     for j in lis:\n",
    "#         if i%j==0:\n",
    "#             temp=1\n",
    "#     if temp==0:\n",
    "#         lis.append(i)\n",
    "# print(lis)\n",
    "# #Noticed how if two array are equated then changes to one affect the other\n",
    "\n",
    "# #PRIME FACTORS OF A NUMBER N\n",
    "# n=int(input())\n",
    "# for i in lis:\n",
    "#     if(n%i==0):\n",
    "#         print(i)\n",
    "        \n",
    "def shitfuckery(inp):\n",
    "    n=int(inp)\n",
    "    lis=[2]\n",
    "    for i in range(2,100):\n",
    "        temp=0\n",
    "        for j in lis:\n",
    "            if i%j==0:\n",
    "                temp=1\n",
    "        if temp==0:\n",
    "            lis.append(i)\n",
    "    for i in lis:\n",
    "        if(n%i==0):\n",
    "            print(i)\n"
   ]
  },
  {
   "cell_type": "code",
   "execution_count": 12,
   "metadata": {},
   "outputs": [
    {
     "name": "stdout",
     "output_type": "stream",
     "text": [
      "1 2 3 4 5\n",
      "[5, 4, 3]\n",
      "1 2 5 4 3 "
     ]
    }
   ],
   "source": [
    "\n",
    "def func(size):\n",
    "    n=int(size)\n",
    "    lis=list(map(int,input().split(\" \")))\n",
    "    i=n//2\n",
    "    lis2=[]\n",
    "    while(i<n):\n",
    "        lis2.append(lis[i])\n",
    "        i+=1\n",
    "    lis2.reverse()\n",
    "    print(lis2)\n",
    "    for i in range(n//2):\n",
    "        print(lis[i],end=\" \")\n",
    "    for i in lis2:\n",
    "        print(i,end=\" \")\n",
    "func(5)\n",
    "\n"
   ]
  },
  {
   "cell_type": "code",
   "execution_count": 16,
   "metadata": {},
   "outputs": [
    {
     "name": "stdout",
     "output_type": "stream",
     "text": [
      "6 8\n",
      "1 2 3 8 3 4\n"
     ]
    },
    {
     "data": {
      "text/plain": [
       "-1"
      ]
     },
     "execution_count": 16,
     "metadata": {},
     "output_type": "execute_result"
    }
   ],
   "source": [
    "def binary_search(arr, x):\n",
    "    low = 0\n",
    "    high = len(arr) - 1\n",
    "    mid = 0\n",
    " \n",
    "    while low <= high:\n",
    "        mid = (high + low) // 2\n",
    "        if arr[mid] < x:\n",
    "            low = mid + 1\n",
    "        elif arr[mid] > x:\n",
    "            high = mid - 1\n",
    "        else:\n",
    "            return mid\n",
    "    return -1\n",
    "def yebhi(sihai):\n",
    "    size,elem=sihai.split(\" \")\n",
    "    lis=list(map(int,input().split(\" \")))\n",
    "    return binary_search(lis,int(elem))\n",
    "fuck=input()\n",
    "yebhi(fuck)"
   ]
  },
  {
   "cell_type": "code",
   "execution_count": 118,
   "metadata": {},
   "outputs": [
    {
     "ename": "KeyboardInterrupt",
     "evalue": "Interrupted by user",
     "output_type": "error",
     "traceback": [
      "\u001b[1;31m---------------------------------------------------------------------------\u001b[0m",
      "\u001b[1;31mKeyboardInterrupt\u001b[0m                         Traceback (most recent call last)",
      "\u001b[1;32m<ipython-input-118-ecf4a5a3e98c>\u001b[0m in \u001b[0;36m<module>\u001b[1;34m\u001b[0m\n\u001b[0;32m      1\u001b[0m \u001b[1;31m#PRINT A PATTERN GIVEN AN N DIV BY 3 : \"|1,2,3|4,5,6|7,8,9|...|n - 2,n - 1,n|\"\u001b[0m\u001b[1;33m\u001b[0m\u001b[1;33m\u001b[0m\u001b[1;33m\u001b[0m\u001b[0m\n\u001b[1;32m----> 2\u001b[1;33m \u001b[0mn\u001b[0m\u001b[1;33m=\u001b[0m\u001b[0mint\u001b[0m\u001b[1;33m(\u001b[0m\u001b[0minput\u001b[0m\u001b[1;33m(\u001b[0m\u001b[1;33m)\u001b[0m\u001b[1;33m)\u001b[0m\u001b[1;33m\u001b[0m\u001b[1;33m\u001b[0m\u001b[0m\n\u001b[0m\u001b[0;32m      3\u001b[0m \u001b[0mprint\u001b[0m\u001b[1;33m(\u001b[0m\u001b[1;34m\"|\"\u001b[0m\u001b[1;33m,\u001b[0m\u001b[0mend\u001b[0m\u001b[1;33m=\u001b[0m\u001b[1;34m\"\"\u001b[0m\u001b[1;33m)\u001b[0m\u001b[1;33m\u001b[0m\u001b[1;33m\u001b[0m\u001b[0m\n\u001b[0;32m      4\u001b[0m \u001b[1;32mfor\u001b[0m \u001b[0mi\u001b[0m \u001b[1;32min\u001b[0m \u001b[0mrange\u001b[0m\u001b[1;33m(\u001b[0m\u001b[1;36m1\u001b[0m\u001b[1;33m,\u001b[0m\u001b[0mn\u001b[0m\u001b[1;33m+\u001b[0m\u001b[1;36m1\u001b[0m\u001b[1;33m,\u001b[0m\u001b[1;36m3\u001b[0m\u001b[1;33m)\u001b[0m\u001b[1;33m:\u001b[0m\u001b[1;33m\u001b[0m\u001b[1;33m\u001b[0m\u001b[0m\n\u001b[0;32m      5\u001b[0m     \u001b[1;32mfor\u001b[0m \u001b[0m_\u001b[0m \u001b[1;32min\u001b[0m \u001b[0mrange\u001b[0m\u001b[1;33m(\u001b[0m\u001b[1;36m3\u001b[0m\u001b[1;33m)\u001b[0m\u001b[1;33m:\u001b[0m\u001b[1;33m\u001b[0m\u001b[1;33m\u001b[0m\u001b[0m\n",
      "\u001b[1;32mC:\\My_programs_2\\Anaconda\\lib\\site-packages\\ipykernel\\kernelbase.py\u001b[0m in \u001b[0;36mraw_input\u001b[1;34m(self, prompt)\u001b[0m\n\u001b[0;32m    858\u001b[0m                 \u001b[1;34m\"raw_input was called, but this frontend does not support input requests.\"\u001b[0m\u001b[1;33m\u001b[0m\u001b[1;33m\u001b[0m\u001b[0m\n\u001b[0;32m    859\u001b[0m             )\n\u001b[1;32m--> 860\u001b[1;33m         return self._input_request(str(prompt),\n\u001b[0m\u001b[0;32m    861\u001b[0m             \u001b[0mself\u001b[0m\u001b[1;33m.\u001b[0m\u001b[0m_parent_ident\u001b[0m\u001b[1;33m,\u001b[0m\u001b[1;33m\u001b[0m\u001b[1;33m\u001b[0m\u001b[0m\n\u001b[0;32m    862\u001b[0m             \u001b[0mself\u001b[0m\u001b[1;33m.\u001b[0m\u001b[0m_parent_header\u001b[0m\u001b[1;33m,\u001b[0m\u001b[1;33m\u001b[0m\u001b[1;33m\u001b[0m\u001b[0m\n",
      "\u001b[1;32mC:\\My_programs_2\\Anaconda\\lib\\site-packages\\ipykernel\\kernelbase.py\u001b[0m in \u001b[0;36m_input_request\u001b[1;34m(self, prompt, ident, parent, password)\u001b[0m\n\u001b[0;32m    902\u001b[0m             \u001b[1;32mexcept\u001b[0m \u001b[0mKeyboardInterrupt\u001b[0m\u001b[1;33m:\u001b[0m\u001b[1;33m\u001b[0m\u001b[1;33m\u001b[0m\u001b[0m\n\u001b[0;32m    903\u001b[0m                 \u001b[1;31m# re-raise KeyboardInterrupt, to truncate traceback\u001b[0m\u001b[1;33m\u001b[0m\u001b[1;33m\u001b[0m\u001b[1;33m\u001b[0m\u001b[0m\n\u001b[1;32m--> 904\u001b[1;33m                 \u001b[1;32mraise\u001b[0m \u001b[0mKeyboardInterrupt\u001b[0m\u001b[1;33m(\u001b[0m\u001b[1;34m\"Interrupted by user\"\u001b[0m\u001b[1;33m)\u001b[0m \u001b[1;32mfrom\u001b[0m \u001b[1;32mNone\u001b[0m\u001b[1;33m\u001b[0m\u001b[1;33m\u001b[0m\u001b[0m\n\u001b[0m\u001b[0;32m    905\u001b[0m             \u001b[1;32mexcept\u001b[0m \u001b[0mException\u001b[0m \u001b[1;32mas\u001b[0m \u001b[0me\u001b[0m\u001b[1;33m:\u001b[0m\u001b[1;33m\u001b[0m\u001b[1;33m\u001b[0m\u001b[0m\n\u001b[0;32m    906\u001b[0m                 \u001b[0mself\u001b[0m\u001b[1;33m.\u001b[0m\u001b[0mlog\u001b[0m\u001b[1;33m.\u001b[0m\u001b[0mwarning\u001b[0m\u001b[1;33m(\u001b[0m\u001b[1;34m\"Invalid Message:\"\u001b[0m\u001b[1;33m,\u001b[0m \u001b[0mexc_info\u001b[0m\u001b[1;33m=\u001b[0m\u001b[1;32mTrue\u001b[0m\u001b[1;33m)\u001b[0m\u001b[1;33m\u001b[0m\u001b[1;33m\u001b[0m\u001b[0m\n",
      "\u001b[1;31mKeyboardInterrupt\u001b[0m: Interrupted by user"
     ]
    }
   ],
   "source": [
    "#PRINT A PATTERN GIVEN AN N DIV BY 3 : \"|1,2,3|4,5,6|7,8,9|...|n - 2,n - 1,n|\"\n",
    "n=int(input())\n",
    "print(\"|\",end=\"\")\n",
    "for i in range(1,n+1,3):\n",
    "    for _ in range(3):\n",
    "        print(i,i+1,i+2,sep=\",\",end=\"|\")"
   ]
  },
  {
   "cell_type": "code",
   "execution_count": 47,
   "metadata": {},
   "outputs": [
    {
     "name": "stdout",
     "output_type": "stream",
     "text": [
      "i am neel. [1, 2, 3]\n",
      "i am neel. [1, 2, 3, 1, 2, 3]\n",
      "i am [1, 2, 3, 1, 2, 3]. neel\n",
      "       0.20\n",
      "    1\n",
      "   11\n",
      "  111\n",
      " 1111\n",
      "11111\n",
      "111111\n",
      "       0.20\n"
     ]
    }
   ],
   "source": [
    "#STRING FORMATTING\n",
    "name=\"neel\"\n",
    "lis=[1,2,3]\n",
    "string=f\"i am {name}. {lis}\"\n",
    "print(string)\n",
    "string=\"i am {}. {}\".format(name,2*lis)\n",
    "print(string)\n",
    "string=\"i am {1}. {0}\".format(name,2*lis)\n",
    "print(string)\n",
    "number=0.2\n",
    "print(f\"{number:11.2f}\")\n",
    "print('{0:5d}'.format(1))\n",
    "print('{0:5d}'.format(11))\n",
    "print('{0:5d}'.format(111))\n",
    "print('{:5d}'.format(1111))\n",
    "print('{:5d}'.format(11111))\n",
    "print('{:5d}'.format(111111))\n",
    "print(f\"{number:11.2f}\")"
   ]
  },
  {
   "cell_type": "code",
   "execution_count": 48,
   "metadata": {
    "scrolled": true
   },
   "outputs": [
    {
     "name": "stdout",
     "output_type": "stream",
     "text": [
      "The Zen of Python, by Tim Peters\n",
      "\n",
      "Beautiful is better than ugly.\n",
      "Explicit is better than implicit.\n",
      "Simple is better than complex.\n",
      "Complex is better than complicated.\n",
      "Flat is better than nested.\n",
      "Sparse is better than dense.\n",
      "Readability counts.\n",
      "Special cases aren't special enough to break the rules.\n",
      "Although practicality beats purity.\n",
      "Errors should never pass silently.\n",
      "Unless explicitly silenced.\n",
      "In the face of ambiguity, refuse the temptation to guess.\n",
      "There should be one-- and preferably only one --obvious way to do it.\n",
      "Although that way may not be obvious at first unless you're Dutch.\n",
      "Now is better than never.\n",
      "Although never is often better than *right* now.\n",
      "If the implementation is hard to explain, it's a bad idea.\n",
      "If the implementation is easy to explain, it may be a good idea.\n",
      "Namespaces are one honking great idea -- let's do more of those!\n"
     ]
    }
   ],
   "source": [
    "import this"
   ]
  },
  {
   "cell_type": "code",
   "execution_count": 58,
   "metadata": {},
   "outputs": [
    {
     "name": "stdout",
     "output_type": "stream",
     "text": [
      "1.41 1.85\n",
      "1.85 1.96\n",
      "1.96 1.99\n",
      "1.99 2.00\n",
      "2.00 2.00\n",
      "2.00 2.00\n",
      "2.00 2.00\n",
      "2.00 2.00\n",
      "2.00 2.00\n",
      "2.00 2.00\n",
      "2.00 2.00\n",
      "11 1.9999998529314358\n"
     ]
    }
   ],
   "source": [
    "#ESTIMATION OF SEQUENCE SQRT(2+SQRT2+...)...\n",
    "import math\n",
    "x=0\n",
    "y=math.sqrt(2)\n",
    "count, tol= 0, 0.000001\n",
    "\n",
    "while(y-x>tol):\n",
    "    y=math.sqrt(2+y)  #prev=curr \n",
    "    x=math.sqrt(2+x)\n",
    "    count+=1\n",
    "    print(\"{:.2f}\".format(x),\"{:.2f}\".format(y))\n",
    "print(count,y)\n",
    "    \n",
    "    \n",
    "    "
   ]
  },
  {
   "cell_type": "code",
   "execution_count": 95,
   "metadata": {},
   "outputs": [
    {
     "name": "stdout",
     "output_type": "stream",
     "text": [
      "P(H) = 0.5\n"
     ]
    }
   ],
   "source": [
    "#CHECKING RANDOMNESS\n",
    "import random \n",
    "n=10000\n",
    "count=0\n",
    "for i in range(n):\n",
    "    if random.choice(\"HT\")==\"H\":\n",
    "        count+=1\n",
    "print(f\"P(H) = {count/n:.2}\")\n"
   ]
  },
  {
   "cell_type": "code",
   "execution_count": 97,
   "metadata": {},
   "outputs": [
    {
     "data": {
      "text/plain": [
       "5.2775391806915625e-39"
      ]
     },
     "execution_count": 97,
     "metadata": {},
     "output_type": "execute_result"
    }
   ],
   "source": [
    "#VERIFYING LIMIT \n",
    "n=100\n",
    "x=1\n",
    "for i in range(n):\n",
    "    x*=math.sqrt(2)-1\n",
    "x"
   ]
  },
  {
   "cell_type": "code",
   "execution_count": 101,
   "metadata": {},
   "outputs": [
    {
     "name": "stdout",
     "output_type": "stream",
     "text": [
      "this is it\n",
      "this is it\n",
      "this is it\n",
      "this is it\n",
      "this is it\n",
      "this is it\n",
      "this is it\n",
      "this is it\n",
      "this is it\n",
      "this is it\n",
      "\n"
     ]
    }
   ],
   "source": [
    "x=\"this is it\\n\"*10\n",
    "y=x*10\n",
    "print(x)"
   ]
  },
  {
   "cell_type": "code",
   "execution_count": 111,
   "metadata": {
    "scrolled": false
   },
   "outputs": [
    {
     "name": "stdout",
     "output_type": "stream",
     "text": [
      "steps: 0\n",
      "1\n"
     ]
    }
   ],
   "source": [
    "#FINDING THE NUMBER OF DIGITS\n",
    "x=1\n",
    "i=0\n",
    "while x%10**i!=x:\n",
    "    print(\"steps:\", x%10**i)\n",
    "    i+=1\n",
    "print(i)"
   ]
  },
  {
   "cell_type": "code",
   "execution_count": 115,
   "metadata": {},
   "outputs": [],
   "source": [
    "for i in range(8,1):\n",
    "    print(1)"
   ]
  },
  {
   "cell_type": "code",
   "execution_count": 122,
   "metadata": {},
   "outputs": [
    {
     "name": "stdout",
     "output_type": "stream",
     "text": [
      "8\n",
      "2\n"
     ]
    }
   ],
   "source": [
    "n=int(input())\n",
    "for i in range(2,n):\n",
    "    flag=True\n",
    "    for j in range(2,i):\n",
    "        if i%j==0:\n",
    "            flag=False\n",
    "\n",
    "    if flag==True and n%i==0:\n",
    "        print(i)"
   ]
  },
  {
   "cell_type": "code",
   "execution_count": 140,
   "metadata": {},
   "outputs": [
    {
     "ename": "SyntaxError",
     "evalue": "invalid syntax (<ipython-input-140-c9fb3185d9d5>, line 11)",
     "output_type": "error",
     "traceback": [
      "\u001b[1;36m  File \u001b[1;32m\"<ipython-input-140-c9fb3185d9d5>\"\u001b[1;36m, line \u001b[1;32m11\u001b[0m\n\u001b[1;33m    if i.isalpha()\u001b[0m\n\u001b[1;37m                  ^\u001b[0m\n\u001b[1;31mSyntaxError\u001b[0m\u001b[1;31m:\u001b[0m invalid syntax\n"
     ]
    }
   ],
   "source": [
    "#SORTING STRING\n",
    "l=input()\n",
    "l=l.lower()\n",
    "s=[]\n",
    "s[:]=l\n",
    "for i in range(len(s)+1):\n",
    "    for j in range(len(s)-1):\n",
    "        if (s[j]>s[j+1]):\n",
    "            s[j],s[j+1]=s[j+1],s[j]\n",
    "for i in s:\n",
    "    if i.isalpha():\n",
    "        print(i,end=\"\")"
   ]
  },
  {
   "cell_type": "code",
   "execution_count": 151,
   "metadata": {},
   "outputs": [
    {
     "name": "stdout",
     "output_type": "stream",
     "text": [
      "9971146354\n"
     ]
    },
    {
     "ename": "TypeError",
     "evalue": "'int' object is not callable",
     "output_type": "error",
     "traceback": [
      "\u001b[1;31m---------------------------------------------------------------------------\u001b[0m",
      "\u001b[1;31mTypeError\u001b[0m                                 Traceback (most recent call last)",
      "\u001b[1;32m<ipython-input-151-0e4327207a4f>\u001b[0m in \u001b[0;36m<module>\u001b[1;34m\u001b[0m\n\u001b[0;32m     27\u001b[0m     \u001b[1;32melse\u001b[0m\u001b[1;33m:\u001b[0m\u001b[1;33m\u001b[0m\u001b[1;33m\u001b[0m\u001b[0m\n\u001b[0;32m     28\u001b[0m         \u001b[0mdic\u001b[0m\u001b[1;33m[\u001b[0m\u001b[0mi\u001b[0m\u001b[1;33m]\u001b[0m\u001b[1;33m+=\u001b[0m\u001b[1;36m1\u001b[0m\u001b[1;33m\u001b[0m\u001b[1;33m\u001b[0m\u001b[0m\n\u001b[1;32m---> 29\u001b[1;33m \u001b[1;32mif\u001b[0m \u001b[0mmax\u001b[0m\u001b[1;33m(\u001b[0m\u001b[0mdic\u001b[0m\u001b[1;33m.\u001b[0m\u001b[0mvalues\u001b[0m\u001b[1;33m(\u001b[0m\u001b[1;33m)\u001b[0m\u001b[1;33m)\u001b[0m\u001b[1;33m>\u001b[0m\u001b[1;36m7\u001b[0m\u001b[1;33m:\u001b[0m\u001b[1;33m\u001b[0m\u001b[1;33m\u001b[0m\u001b[0m\n\u001b[0m\u001b[0;32m     30\u001b[0m     \u001b[0mflag\u001b[0m\u001b[1;33m=\u001b[0m\u001b[1;32mFalse\u001b[0m\u001b[1;33m\u001b[0m\u001b[1;33m\u001b[0m\u001b[0m\n\u001b[0;32m     31\u001b[0m \u001b[1;32mif\u001b[0m \u001b[0mflag\u001b[0m\u001b[1;33m==\u001b[0m\u001b[1;32mTrue\u001b[0m\u001b[1;33m:\u001b[0m\u001b[1;33m\u001b[0m\u001b[1;33m\u001b[0m\u001b[0m\n",
      "\u001b[1;31mTypeError\u001b[0m: 'int' object is not callable"
     ]
    }
   ],
   "source": [
    "#GRADED ASS 5: IT RUNS IN PYTHON ENV BUT NOT IN JUPYTER FOR SOME REASON\n",
    "\n",
    "s=input()\n",
    "flag=True\n",
    "if s.isnumeric()==False:\n",
    "    flag=False\n",
    "if s[0]==\"6\" or s[0]==\"7\" or s[0]==\"8\" or s[0]==\"9\":\n",
    "    pass\n",
    "else:\n",
    "    flag=False\n",
    "if len(s)!=10:\n",
    "    flag=False\n",
    "    \n",
    "count=0\n",
    "maxx=0\n",
    "for i in range(len(s)-1):\n",
    "    if s[i]==s[i+1]:\n",
    "        count+=1\n",
    "    else:\n",
    "        count=0\n",
    "        if maxx<count:\n",
    "            maxx=count\n",
    "if maxx>5:\n",
    "    flag=False\n",
    "dic={}\n",
    "for i in s:\n",
    "    if i not in dic.keys():\n",
    "        dic[i]=1\n",
    "    else:\n",
    "        dic[i]+=1\n",
    "if max(dic.values())>7:\n",
    "    flag=False\n",
    "if flag==True:\n",
    "    print(\"valid\")\n",
    "else:\n",
    "    print(\"invalid\")\n",
    "    "
   ]
  },
  {
   "cell_type": "code",
   "execution_count": null,
   "metadata": {},
   "outputs": [],
   "source": []
  },
  {
   "cell_type": "code",
   "execution_count": null,
   "metadata": {},
   "outputs": [],
   "source": []
  }
 ],
 "metadata": {
  "kernelspec": {
   "display_name": "Python 3",
   "language": "python",
   "name": "python3"
  },
  "language_info": {
   "codemirror_mode": {
    "name": "ipython",
    "version": 3
   },
   "file_extension": ".py",
   "mimetype": "text/x-python",
   "name": "python",
   "nbconvert_exporter": "python",
   "pygments_lexer": "ipython3",
   "version": "3.8.3"
  }
 },
 "nbformat": 4,
 "nbformat_minor": 4
}
