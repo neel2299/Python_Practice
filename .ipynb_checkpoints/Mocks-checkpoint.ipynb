{
 "cells": [
  {
   "cell_type": "code",
   "execution_count": 1,
   "metadata": {},
   "outputs": [
    {
     "name": "stdout",
     "output_type": "stream",
     "text": [
      "ABA\n",
      "729\n"
     ]
    }
   ],
   "source": [
    "n=input()\n",
    "dic={}\n",
    "alp=ord(\"A\")\n",
    "for i in range(1,27):\n",
    "    dic[chr(alp)]=i\n",
    "    alp+=1\n",
    "lis=list(n)\n",
    "val=0\n",
    "for i in range(len(lis)):\n",
    "    power=26**(len(lis)-1-i)\n",
    "    val+=dic[lis[i]]*power\n",
    "print(val)\n",
    "# Excel sheet numbering"
   ]
  },
  {
   "cell_type": "code",
   "execution_count": 2,
   "metadata": {},
   "outputs": [
    {
     "name": "stdout",
     "output_type": "stream",
     "text": [
      "2\n",
      "1,2\n",
      "3,4\n",
      "row\n",
      "\n",
      "3,4\n",
      "1,2"
     ]
    }
   ],
   "source": [
    "def create(n):\n",
    "    dic=[]\n",
    "    for i in range(n):\n",
    "        lis=[]\n",
    "        for j in range(n):\n",
    "            lis.append(0)\n",
    "        dic.append(lis)\n",
    "    return dic\n",
    "n=int(input())\n",
    "M=[]\n",
    "for i in range(n):\n",
    "    M.append(input().split(\",\"))\n",
    "for lis in M:\n",
    "    lis= map(int,lis)\n",
    "#RM=create(n)\n",
    "#print(M)\n",
    "if input()==\"row\":\n",
    "    RM=[]\n",
    "    for i in range(n):\n",
    "        RM.append(M[n-i-1])\n",
    "    \n",
    "            \n",
    "    print(\"\")\n",
    "else:\n",
    "    RM=[]\n",
    "    for i in range(n):\n",
    "        lis=[]\n",
    "        for j in range(n):\n",
    "            lis.append(M[i][n-1-j])\n",
    "        RM.append(lis)\n",
    "\n",
    "\n",
    "for i in range(n):\n",
    "    for j in range(n):\n",
    "        print(RM[i][j],end=\",\") if j!=n-1 else print(RM[i][j],end=\"\")\n",
    "    print(\"\") if i!=n-1 else None\n",
    "#Matrix row and column reversed()"
   ]
  },
  {
   "cell_type": "code",
   "execution_count": 3,
   "metadata": {},
   "outputs": [],
   "source": [
    "def consolidate(students):\n",
    "    dic={}\n",
    "    for lis in students:\n",
    "        for elem in lis:\n",
    "            if elem in dic.keys():\n",
    "                dic[elem]+=1\n",
    "            else:\n",
    "                dic[elem]=1\n",
    "    return dic\n",
    "def popular(consol):\n",
    "    maxx=0\n",
    "    for key in consol.keys():\n",
    "        if (maxx<consol[key]):\n",
    "            maxx=consol[key]\n",
    "            max_key=key\n",
    "    return max_key\n",
    "#Consolidate and popular"
   ]
  },
  {
   "cell_type": "code",
   "execution_count": null,
   "metadata": {},
   "outputs": [],
   "source": [
    "def process_line(i):\n",
    "    with open(\"numbers.txt\",\"r\") as f:\n",
    "        for i in range(i):\n",
    "            l=f.readline()\n",
    "        l=f.readline()\n",
    "        lis=l.split(\",\")\n",
    "        N=len(lis)\n",
    "        S=0\n",
    "        P=1\n",
    "        if len(lis)==1 and lis[0]==\"\":\n",
    "            return (-1,-1,-1)\n",
    "        for i in range(len(lis)):\n",
    "            S+=int(lis[i])\n",
    "            P*=int(lis[i])\n",
    "    return (N,S,P)\n",
    "#using docs\n"
   ]
  },
  {
   "cell_type": "code",
   "execution_count": 4,
   "metadata": {},
   "outputs": [
    {
     "name": "stdout",
     "output_type": "stream",
     "text": [
      "2.0\n"
     ]
    }
   ],
   "source": [
    "print((4/2))"
   ]
  },
  {
   "cell_type": "code",
   "execution_count": 3,
   "metadata": {},
   "outputs": [
    {
     "name": "stdout",
     "output_type": "stream",
     "text": [
      "1243\n",
      "1\n",
      "\n",
      "2\n",
      "\n",
      "4\n",
      "\n",
      "3\n",
      "[1, 2, 1]\n",
      "[1, 2, 1]\n"
     ]
    }
   ],
   "source": [
    "a,b,c,d=input()\n",
    "print(a,b,c,d,sep=\"\\n\\n\")\n",
    "lis=[1,2]\n",
    "lis2=list(lis)\n",
    "lis.append(1)\n",
    "print(lis)\n",
    "print(lis2)"
   ]
  },
  {
   "cell_type": "code",
   "execution_count": null,
   "metadata": {},
   "outputs": [],
   "source": [
    "\n"
   ]
  },
  {
   "cell_type": "code",
   "execution_count": null,
   "metadata": {},
   "outputs": [],
   "source": []
  }
 ],
 "metadata": {
  "kernelspec": {
   "display_name": "Python 3",
   "language": "python",
   "name": "python3"
  },
  "language_info": {
   "codemirror_mode": {
    "name": "ipython",
    "version": 3
   },
   "file_extension": ".py",
   "mimetype": "text/x-python",
   "name": "python",
   "nbconvert_exporter": "python",
   "pygments_lexer": "ipython3",
   "version": "3.8.3"
  }
 },
 "nbformat": 4,
 "nbformat_minor": 4
}
