{
 "cells": [
  {
   "cell_type": "code",
   "execution_count": 8,
   "metadata": {},
   "outputs": [
    {
     "name": "stdout",
     "output_type": "stream",
     "text": [
      "3\n",
      "4 9 2\n",
      "3 5 7\n",
      "8 1 6\n",
      "Magic\n"
     ]
    }
   ],
   "source": [
    "#magic square\n",
    "n=int (input())\n",
    "lis=[]\n",
    "while((n>0)):\n",
    "    n-=1\n",
    "    lis.append(list(map(int,input().split(\" \"))))\n",
    "mat=lis\n",
    "magval=sum(mat[0])\n",
    "flag=1\n",
    "vald1=0\n",
    "vald2=0\n",
    "for i in range(len(mat)):\n",
    "    val1=0\n",
    "    val2=0\n",
    "    for j in range(len(mat)):\n",
    "        val1+=mat[i][j]\n",
    "        val2+=mat[j][i]\n",
    "    if (val1!=magval):\n",
    "        flag=0\n",
    "    if val2!=magval:\n",
    "        flag=0\n",
    "    vald1+=mat[i][i]\n",
    "    vald2+=mat[i][len(mat)-i-1] \n",
    "if (val1!=magval):\n",
    "    flag=0\n",
    "if val2!=magval:\n",
    "    flag=0\n",
    "if flag==1:\n",
    "    print(\"Magic\")\n",
    "else:\n",
    "    print(\"Pleb\")"
   ]
  },
  {
   "cell_type": "code",
   "execution_count": 65,
   "metadata": {},
   "outputs": [],
   "source": [
    "f = open('out.txt', 'a')\n",
    "f.write(str(123)+\"\\n\")\n",
    "f.write(\"Dunno\")\n",
    "f.close()"
   ]
  },
  {
   "cell_type": "code",
   "execution_count": 7,
   "metadata": {},
   "outputs": [],
   "source": [
    "f = open('out.txt', 'r')\n"
   ]
  },
  {
   "cell_type": "code",
   "execution_count": 11,
   "metadata": {},
   "outputs": [
    {
     "data": {
      "text/plain": [
       "False"
      ]
     },
     "execution_count": 11,
     "metadata": {},
     "output_type": "execute_result"
    }
   ],
   "source": [
    "f.readline==\"\"\n",
    "#f.close()"
   ]
  },
  {
   "cell_type": "code",
   "execution_count": 8,
   "metadata": {},
   "outputs": [
    {
     "name": "stdout",
     "output_type": "stream",
     "text": [
      "123\n",
      "\n",
      "Dunno\n",
      "\n",
      "122\n",
      "\n",
      "e1jikdj\n",
      "\n",
      "12ejld1p\n",
      "\n"
     ]
    }
   ],
   "source": [
    "#f.readlines()\n",
    "for line in f:\n",
    "    print(line)\n"
   ]
  },
  {
   "cell_type": "code",
   "execution_count": 13,
   "metadata": {},
   "outputs": [],
   "source": [
    "for i in f:\n",
    "    print(i)\n",
    "    break"
   ]
  },
  {
   "cell_type": "code",
   "execution_count": 3,
   "metadata": {},
   "outputs": [
    {
     "data": {
      "text/plain": [
       "[['Dunno'], ['122'], ['e1jikdj'], ['12ejld1p']]"
      ]
     },
     "execution_count": 3,
     "metadata": {},
     "output_type": "execute_result"
    }
   ],
   "source": [
    "data\n"
   ]
  },
  {
   "cell_type": "code",
   "execution_count": 68,
   "metadata": {},
   "outputs": [],
   "source": [
    "def solution():\n",
    "    '''\n",
    "    0. Read the file.\n",
    "    1. Accept input from the user as specified in the question.\n",
    "    2. The input will be on three lines.\n",
    "    3. For each of the three questions given in the problem statement,\n",
    "       print your answer.\n",
    "    '''\n",
    "    year=input()\n",
    "    pop=input()\n",
    "    f = open('WorldPopulation.csv', 'r')\n",
    "    for line in f:\n",
    "        l=line.split(\",\")\n",
    "        if l[0]==year:\n",
    "            print(l[1])\n",
    "    f = open('WorldPopulation.csv', 'r')\n",
    "    f.readline()\n",
    "    for line in f:\n",
    "        l=line.split(\",\")\n",
    "        if int(l[1])-int(l[3])<int(pop):\n",
    "            print(l[0])\n",
    "            break\n",
    "    field=input()\n",
    "    f=open(\"WorldPopulation.csv\",\"r\")\n",
    "    checker=f.readline()\n",
    "    index=checker.find(field)\n",
    "    max=0\n",
    "    for line in f.readlines():\n",
    "        l=line.split(\",\")\n",
    "        if max<float(l[index]):\n",
    "            max=float(l[index])\n",
    "    print(max)\n",
    "        "
   ]
  },
  {
   "cell_type": "code",
   "execution_count": 69,
   "metadata": {},
   "outputs": [
    {
     "ename": "AttributeError",
     "evalue": "'list' object has no attribute 'find'",
     "output_type": "error",
     "traceback": [
      "\u001b[1;31m---------------------------------------------------------------------------\u001b[0m",
      "\u001b[1;31mAttributeError\u001b[0m                            Traceback (most recent call last)",
      "\u001b[1;32m<ipython-input-69-20c37f96e4f2>\u001b[0m in \u001b[0;36m<module>\u001b[1;34m\u001b[0m\n\u001b[0;32m      1\u001b[0m \u001b[0mlis\u001b[0m\u001b[1;33m=\u001b[0m\u001b[1;33m[\u001b[0m\u001b[1;36m1\u001b[0m\u001b[1;33m,\u001b[0m\u001b[1;36m2\u001b[0m\u001b[1;33m,\u001b[0m\u001b[1;36m3\u001b[0m\u001b[1;33m]\u001b[0m\u001b[1;33m\u001b[0m\u001b[1;33m\u001b[0m\u001b[0m\n\u001b[1;32m----> 2\u001b[1;33m \u001b[0mlis\u001b[0m\u001b[1;33m.\u001b[0m\u001b[0mfind\u001b[0m\u001b[1;33m(\u001b[0m\u001b[1;36m2\u001b[0m\u001b[1;33m)\u001b[0m\u001b[1;33m\u001b[0m\u001b[1;33m\u001b[0m\u001b[0m\n\u001b[0m",
      "\u001b[1;31mAttributeError\u001b[0m: 'list' object has no attribute 'find'"
     ]
    }
   ],
   "source": [
    "def highest_grossing(yearFrom, yearUpto, genre):\n",
    "    '''\n",
    "    Arguments:\n",
    "    \tyearFrom: int\n",
    "    \tyearUpto: int\n",
    "    \tgenre: string\n",
    "    Returns:\n",
    "    \tmovie_name: string\n",
    "    '''\n",
    "    f=open(\"IMDB_reviews.csv\",\"r\")\n",
    "    f.readline()\n",
    "    maxx=0\n",
    "    for line in f:\n",
    "        l=line.split(\",\")\n",
    "        if int(l[2])>yearFrom and int(l[2])<yearUpto and l[4]==genre :\n",
    "            if(maxx<int(l[9])):\n",
    "                maxx=l[9]\n",
    "    print(maxx)"
   ]
  },
  {
   "cell_type": "code",
   "execution_count": null,
   "metadata": {},
   "outputs": [],
   "source": []
  }
 ],
 "metadata": {
  "kernelspec": {
   "display_name": "Python 3",
   "language": "python",
   "name": "python3"
  },
  "language_info": {
   "codemirror_mode": {
    "name": "ipython",
    "version": 3
   },
   "file_extension": ".py",
   "mimetype": "text/x-python",
   "name": "python",
   "nbconvert_exporter": "python",
   "pygments_lexer": "ipython3",
   "version": "3.8.3"
  }
 },
 "nbformat": 4,
 "nbformat_minor": 4
}
