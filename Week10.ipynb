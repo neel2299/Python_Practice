{
 "cells": [
  {
   "cell_type": "code",
   "execution_count": 4,
   "metadata": {},
   "outputs": [
    {
     "name": "stdout",
     "output_type": "stream",
     "text": [
      "2\n",
      "1\n",
      "2\n"
     ]
    }
   ],
   "source": [
    "class Student:\n",
    "    count=0\n",
    "    def __init__(self,name,roll):\n",
    "        self.name=name\n",
    "        self.roll=roll\n",
    "        Student.count+=1     ##Classes unlike functions are not runall together hence this CAN NOT be just count bbut Student.count for the variable to have access to our class variable\n",
    "s0=Student(1,1.5)\n",
    "s1=Student(2,2.5)\n",
    "print(s1.name)\n",
    "print(s0.name)\n",
    "print(Student.count)"
   ]
  },
  {
   "cell_type": "code",
   "execution_count": 64,
   "metadata": {},
   "outputs": [],
   "source": [
    "import math\n",
    "class Point:\n",
    "    def __init__(self,x=0, y=0):\n",
    "        self.x=x\n",
    "        self.y=y\n",
    "    def value(self):\n",
    "        tup=[]\n",
    "        tup.append(self.x)\n",
    "        tup.append(self.y)\n",
    "        \n",
    "        tup= tuple(tup)\n",
    "        return tup\n",
    "    def duplicate(self):\n",
    "        new=Point(self.x,self.y)\n",
    "        return new\n",
    "    def move(self,dx,dy):\n",
    "        self.x+=dx\n",
    "        self.y+=dy\n",
    "class Line:\n",
    "    def __init__(self, p1, p2):\n",
    "        self.p1=p1\n",
    "        self.p2=p2\n",
    "    def slope(self):\n",
    "        try:\n",
    "            slope= (self.p2.y-self.p1.y)/(self.p2.x-self.p1.x)\n",
    "        except:\n",
    "            slope=math.inf\n",
    "        return slope\n",
    "    def length(self):\n",
    "        dis=(self.p2.x-self.p1.x)**2+(self.p2.y-self.p1.y)**2\n",
    "        dis=math.sqrt(dis)\n",
    "        return dis\n",
    "p=Point()"
   ]
  },
  {
   "cell_type": "code",
   "execution_count": 65,
   "metadata": {},
   "outputs": [
    {
     "data": {
      "text/plain": [
       "(0, 0)"
      ]
     },
     "execution_count": 65,
     "metadata": {},
     "output_type": "execute_result"
    }
   ],
   "source": [
    "p.value()\n"
   ]
  },
  {
   "cell_type": "code",
   "execution_count": 66,
   "metadata": {},
   "outputs": [
    {
     "data": {
      "text/plain": [
       "<__main__.Point at 0x27d864d5f10>"
      ]
     },
     "execution_count": 66,
     "metadata": {},
     "output_type": "execute_result"
    }
   ],
   "source": [
    "q=p.duplicate()\n",
    "q"
   ]
  },
  {
   "cell_type": "code",
   "execution_count": 67,
   "metadata": {},
   "outputs": [
    {
     "name": "stdout",
     "output_type": "stream",
     "text": [
      "inf\n"
     ]
    }
   ],
   "source": [
    "line=Line(p,q)\n",
    "slope=line.slope()\n",
    "print(slope)"
   ]
  },
  {
   "cell_type": "code",
   "execution_count": 68,
   "metadata": {},
   "outputs": [
    {
     "name": "stdout",
     "output_type": "stream",
     "text": [
      "1.0\n"
     ]
    }
   ],
   "source": [
    "q.move(2,2)\n",
    "line=Line(p,q)\n",
    "slope=line.slope()\n",
    "print(slope)"
   ]
  },
  {
   "cell_type": "code",
   "execution_count": 69,
   "metadata": {},
   "outputs": [
    {
     "name": "stdout",
     "output_type": "stream",
     "text": [
      "2.8284271247461903\n"
     ]
    }
   ],
   "source": [
    "print(line.length())"
   ]
  },
  {
   "cell_type": "code",
   "execution_count": 110,
   "metadata": {},
   "outputs": [],
   "source": [
    "import time\n",
    "class TimeConverter:\n",
    "    def __init__(self):\n",
    "        self.initial= time.time()\n",
    "    def Second_to_Minutes(self):\n",
    "        end=time.time()\n",
    "        start=self.initial\n",
    "        tim=end-start\n",
    "        minutes=str(round((tim//60)))\n",
    "        seconds=str(round((tim%60)))\n",
    "        string=minutes+\" min \"+seconds+\" sec\"\n",
    "        return string\n",
    "    def Second_to_Hours(self):\n",
    "        end=time.time()\n",
    "        start=self.initial\n",
    "        tim=end-start\n",
    "        minutes=str(round((tim//60)))\n",
    "        seconds=str(round((tim%60)))\n",
    "        hours=str(int(minutes)//60)\n",
    "        minutes=str(int(minutes)%60)\n",
    "        string=hours+\" hr \"+minutes+\" min \"+seconds+\" sec\"\n",
    "        return string\n",
    "    def Second_to_Days(self):\n",
    "        end=time.time()\n",
    "        start=self.initial\n",
    "        tim=end-start\n",
    "        minutes=str(round((tim//60)))\n",
    "        seconds=str(round((tim%60)))\n",
    "        hours=str(int(minutes)//60)\n",
    "        minutes=str(int(minutes)%60)\n",
    "        days=str(round(int(hours)//24))\n",
    "        hours=str(round(int(hours)%24))\n",
    "        string=days+\" days \"+hours+\" hr \"+minutes+\" min \"+seconds+\" sec\"\n",
    "        return string\n",
    "        "
   ]
  },
  {
   "cell_type": "code",
   "execution_count": null,
   "metadata": {},
   "outputs": [],
   "source": [
    "import time\n",
    "class TimeConverter:\n",
    "    def __init__(self,time):\n",
    "        selzf.initial= time\n",
    "    def Second_to_Minutes(self):\n",
    "#         end=time.time()\n",
    "#         start=self.initial\n",
    "        tim=self.initial\n",
    "        minutes=str(round((tim//60)))\n",
    "        seconds=str(round((tim%60)))\n",
    "        string=minutes+\" min \"+seconds+\" sec\"\n",
    "        return string\n",
    "    def Second_to_Hours(self):\n",
    "        tim=self.initial\n",
    "        minutes=str(round((tim//60)))\n",
    "        seconds=str(round((tim%60)))\n",
    "        hours=str(int(minutes)//60)\n",
    "        minutes=str(int(minutes)%60)\n",
    "        string=hours+\" hr \"+minutes+\" min \"+seconds+\" sec\"\n",
    "        return string\n",
    "    def Second_to_Days(self):\n",
    "        tim=self.initial\n",
    "        minutes=str(round((tim//60)))\n",
    "        seconds=str(round((tim%60)))\n",
    "        hours=str(int(minutes)//60)\n",
    "        minutes=str(int(minutes)%60)\n",
    "        days=str(round(int(hours)//24))\n",
    "        hours=str(round(int(hours)%24))\n",
    "        string=days+\" days \"+hours+\" hr \"+minutes+\" min \"+seconds+\" sec\"\n",
    "        return string\n",
    "        "
   ]
  },
  {
   "cell_type": "code",
   "execution_count": 116,
   "metadata": {},
   "outputs": [],
   "source": [
    "def valid(p):\n",
    "    if len(p)<=7:\n",
    "        return False\n",
    "    if not p[0].isupper():\n",
    "        return False\n",
    "    if not p.isalnum():\n",
    "        return False\n",
    "    return True\n",
    "class UserLoginInfo:\n",
    "    dic={}\n",
    "    def __init__(self, user, password):\n",
    "        self.user=user\n",
    "        self.passes=[password]\n",
    "        UserLoginInfo.dic[user]=self\n",
    "        \n",
    "    def RetrievePassword(self):\n",
    "        return self.passes[-1]\n",
    "    def ChangePassword(self, new):\n",
    "        if new in self.passes:\n",
    "            return \"Password already used\"\n",
    "        elif valid(new):\n",
    "            self.passes.append(new)\n",
    "            return \"Password updated successfully\"\n",
    "        else:\n",
    "            return \"Invalid password\"\n",
    "    def Login(self,user, pas):\n",
    "        dics=UserLoginInfo.dic\n",
    "        if user not in dics.keys() or dics[user].passes[-1]!=pas:\n",
    "            return \"Username or Password incorrect\"\n",
    "        else:\n",
    "            return \"Welcome \"+user"
   ]
  },
  {
   "cell_type": "code",
   "execution_count": 1,
   "metadata": {},
   "outputs": [
    {
     "data": {
      "text/plain": [
       "[1, 2]"
      ]
     },
     "execution_count": 1,
     "metadata": {},
     "output_type": "execute_result"
    }
   ],
   "source": [
    "class Night:\n",
    "    def __init__(self, something):\n",
    "        self.nigh=[something]\n",
    "    def add(self, some):\n",
    "        self.nigh.append(some)\n",
    "d=Night(1)\n",
    "d.add(2)\n",
    "d.nigh"
   ]
  },
  {
   "cell_type": "code",
   "execution_count": 4,
   "metadata": {},
   "outputs": [
    {
     "data": {
      "text/plain": [
       "[1]"
      ]
     },
     "execution_count": 4,
     "metadata": {},
     "output_type": "execute_result"
    }
   ],
   "source": [
    "Night(1).nigh"
   ]
  },
  {
   "cell_type": "code",
   "execution_count": 119,
   "metadata": {},
   "outputs": [
    {
     "data": {
      "text/plain": [
       "15"
      ]
     },
     "execution_count": 119,
     "metadata": {},
     "output_type": "execute_result"
    }
   ],
   "source": [
    "round(14.508)"
   ]
  },
  {
   "cell_type": "code",
   "execution_count": null,
   "metadata": {},
   "outputs": [],
   "source": []
  },
  {
   "cell_type": "code",
   "execution_count": null,
   "metadata": {},
   "outputs": [],
   "source": []
  },
  {
   "cell_type": "code",
   "execution_count": null,
   "metadata": {},
   "outputs": [],
   "source": []
  }
 ],
 "metadata": {
  "kernelspec": {
   "display_name": "Python 3",
   "language": "python",
   "name": "python3"
  },
  "language_info": {
   "codemirror_mode": {
    "name": "ipython",
    "version": 3
   },
   "file_extension": ".py",
   "mimetype": "text/x-python",
   "name": "python",
   "nbconvert_exporter": "python",
   "pygments_lexer": "ipython3",
   "version": "3.8.3"
  }
 },
 "nbformat": 4,
 "nbformat_minor": 4
}
