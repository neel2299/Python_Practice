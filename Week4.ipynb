{
 "cells": [
  {
   "cell_type": "code",
   "execution_count": 1,
   "metadata": {},
   "outputs": [
    {
     "name": "stdout",
     "output_type": "stream",
     "text": [
      "71.20 percent\n"
     ]
    }
   ],
   "source": [
    "#VALIDITY OF BIRTHDAY PARADOX\n",
    "import random as rd\n",
    "num=0\n",
    "n=1000\n",
    "for i in range(n):\n",
    "    l=[]\n",
    "    for j in range(30):\n",
    "        l.append(rd.randint(1,356))\n",
    "    l.sort()\n",
    "    temp=0\n",
    "    for j in l:\n",
    "        if temp==j:\n",
    "            num+=1\n",
    "            break\n",
    "        temp=j\n",
    "print(f\"{num/n*100:.2f} percent\")"
   ]
  },
  {
   "cell_type": "code",
   "execution_count": 2,
   "metadata": {},
   "outputs": [
    {
     "name": "stdout",
     "output_type": "stream",
     "text": [
      "Found at loc: 2\n"
     ]
    }
   ],
   "source": [
    "#SEARCHING NAIVE\n",
    "lis=[1,3,5,7]\n",
    "target =3\n",
    "flag=0\n",
    "i=0\n",
    "while(i<=len(lis)-1):\n",
    "    if lis[i] == target:\n",
    "        flag=1\n",
    "        break\n",
    "    i+=1\n",
    "if flag==1:\n",
    "    print(f\"Found at loc: {i+1}\")\n",
    "else:\n",
    "    print(\"dunno\")"
   ]
  },
  {
   "cell_type": "code",
   "execution_count": 3,
   "metadata": {},
   "outputs": [
    {
     "data": {
      "text/plain": [
       "[1, 1, 3, 3, 6, 7, 7]"
      ]
     },
     "execution_count": 3,
     "metadata": {},
     "output_type": "execute_result"
    }
   ],
   "source": [
    "#SOTING NAIVE\n",
    "l=[1,7,3,7,3,1,6]\n",
    "x=[]\n",
    "for i in range(len(l)):\n",
    "    minn=9999\n",
    "    for i in range(len(l)):\n",
    "        if l[i]<minn:\n",
    "            minn=l[i]\n",
    "    l.remove(minn)\n",
    "    x.append(minn)\n",
    "x\n",
    "        "
   ]
  },
  {
   "cell_type": "code",
   "execution_count": 4,
   "metadata": {},
   "outputs": [
    {
     "data": {
      "text/plain": [
       "[[2, 4, 6], [2, 4, 6], [2, 4, 6]]"
      ]
     },
     "execution_count": 4,
     "metadata": {},
     "output_type": "execute_result"
    }
   ],
   "source": [
    "#MATRIX ADDITION\n",
    "m1=[[1,2,3],[1,2,3],[1,2,3]]\n",
    "m2=[[1,2,3],[1,2,3],[1,2,3]]\n",
    "c=m1\n",
    "for i in range(len(m1[0])):\n",
    "    for j in range(len(m1[0])):\n",
    "        c[i][j]=m1[i][j]+m2[i][j]\n",
    "c"
   ]
  },
  {
   "cell_type": "code",
   "execution_count": 5,
   "metadata": {},
   "outputs": [
    {
     "data": {
      "text/plain": [
       "[[6, 12, 18], [6, 12, 18], [6, 12, 18]]"
      ]
     },
     "execution_count": 5,
     "metadata": {},
     "output_type": "execute_result"
    }
   ],
   "source": [
    "#MATRIX MULTIPLICATION\n",
    "def dot_prod(l1,l2):\n",
    "    ans=0\n",
    "    for i in range(len(l1)):\n",
    "        ans=ans+l1[i]*l2[i]\n",
    "    return ans\n",
    "def column(matrix, i):\n",
    "    return [row[i] for row in matrix]\n",
    "m1=[[1,2,3],[1,2,3],[1,2,3]]\n",
    "m2=[[1,2,3],[1,2,3],[1,2,3]]\n",
    "c = [ [ 0 for i in range(len(m1)) ] for j in range(len(m1)) ]\n",
    "for i in range(len(m1[0])):\n",
    "    for j in range(len(m1[0])):\n",
    "        c[i][j]=dot_prod(m1[i],column(m2,j))\n",
    "c"
   ]
  },
  {
   "cell_type": "code",
   "execution_count": 6,
   "metadata": {},
   "outputs": [
    {
     "name": "stdout",
     "output_type": "stream",
     "text": [
      "init22\n",
      "24\n",
      "init20\n",
      "22\n",
      "init18\n",
      "20\n",
      "init16\n",
      "18\n",
      "init14\n",
      "16\n",
      "init12\n",
      "14\n",
      "init10\n",
      "12\n",
      "init8\n",
      "10\n",
      "init6\n",
      "8\n",
      "init4\n",
      "6\n",
      "<class 'str'>\n",
      "<class 'list'>\n"
     ]
    }
   ],
   "source": [
    "#NOTICED HOW LOOP VALUES CONTINUE IN FOR DESPITE CHANGE unlike C\n",
    "for i in range(22,2,-2):\n",
    "    print(f\"init{i}\")\n",
    "    i=i+2\n",
    "    print(i)\n",
    "tem=\"neel\"\n",
    "print(type(tem))\n",
    "tem=[\"n\",\"e\",\"e\",\"l\"]\n",
    "print(type(tem))"
   ]
  },
  {
   "cell_type": "code",
   "execution_count": 7,
   "metadata": {},
   "outputs": [
    {
     "data": {
      "text/plain": [
       "[1, 'str']"
      ]
     },
     "execution_count": 7,
     "metadata": {},
     "output_type": "execute_result"
    }
   ],
   "source": [
    "lis=[]\n",
    "lis.append(1)\n",
    "lis.append(\"str\")\n",
    "lis"
   ]
  },
  {
   "cell_type": "code",
   "execution_count": 8,
   "metadata": {},
   "outputs": [
    {
     "name": "stdout",
     "output_type": "stream",
     "text": [
      "1 2\n"
     ]
    }
   ],
   "source": [
    "print(\"{a} {b}\".format(a = 1, b = 2))"
   ]
  },
  {
   "cell_type": "code",
   "execution_count": 9,
   "metadata": {},
   "outputs": [
    {
     "name": "stdout",
     "output_type": "stream",
     "text": [
      "1 2 4 4\n",
      "1.50\n"
     ]
    }
   ],
   "source": [
    "#STANDARD DEVIATION CALCULATOR\n",
    "lis=list(map(int,input().split()))\n",
    "mean=0\n",
    "n=len(lis)\n",
    "for i in range(n):\n",
    "    mean+=lis[i]\n",
    "mean=mean/n\n",
    "var=0\n",
    "for i in range(n):\n",
    "    var+=(lis[i]-mean)**2\n",
    "var=var/(n-1)\n",
    "import math\n",
    "std=math.sqrt(var)\n",
    "print(\"{:.2f}\".format(std))"
   ]
  },
  {
   "cell_type": "code",
   "execution_count": 12,
   "metadata": {},
   "outputs": [
    {
     "name": "stdout",
     "output_type": "stream",
     "text": [
      "1\n",
      "2\n",
      "END\n",
      "0.71\n"
     ]
    }
   ],
   "source": [
    "#STD CALC 2\n",
    "temp=0\n",
    "lis=[]\n",
    "while (1):\n",
    "    inp=input()\n",
    "    if inp==\"END\":\n",
    "        temp=inp\n",
    "        break\n",
    "    lis.append(int(inp))\n",
    "    \n",
    "mean=0\n",
    "n=len(lis)\n",
    "for i in range(n):\n",
    "    mean+=lis[i]\n",
    "mean=mean/n\n",
    "var=0\n",
    "for i in range(n):\n",
    "    var+=(lis[i]-mean)**2\n",
    "var=var/(n-1)\n",
    "import math\n",
    "std=math.sqrt(var)\n",
    "print(\"{:.2f}\".format(std))"
   ]
  },
  {
   "cell_type": "code",
   "execution_count": 13,
   "metadata": {},
   "outputs": [
    {
     "name": "stdout",
     "output_type": "stream",
     "text": [
      "adaw\n",
      "0\n"
     ]
    }
   ],
   "source": [
    "#FINDING THE NUMBER OF MAXIMUM NESTING DEPTH FOR LEGAL PARANTHESES\n",
    "string=input()\n",
    "point=0\n",
    "flag=0\n",
    "maxx=0\n",
    "for i in string:\n",
    "    if i ==\"(\":\n",
    "        point+=1\n",
    "    if i==\")\":\n",
    "        point-=1\n",
    "    if point<0:\n",
    "        flag=1\n",
    "    if(maxx<point):\n",
    "        maxx=point\n",
    "if flag==1 or point!=0:\n",
    "    print(\"Not matched\")\n",
    "else:\n",
    "    #print(string.count(\"(\"))\n",
    "    print(maxx)\n"
   ]
  },
  {
   "cell_type": "code",
   "execution_count": 14,
   "metadata": {},
   "outputs": [
    {
     "name": "stdout",
     "output_type": "stream",
     "text": [
      "1 2 3 4 \n"
     ]
    }
   ],
   "source": [
    "#PRINTING PAIRS THAT HAVE SUM IN THE LIST\n",
    "lis=[]\n",
    "flag=0\n",
    "while flag==0:\n",
    "    inp=input()\n",
    "    #if inp==\"\\n\":\n",
    "       # flag=1\n",
    "    try:\n",
    "        lis.append(int(inp))\n",
    "    except:\n",
    "        break\n",
    "    \n",
    "lis.sort()\n",
    "n=len(lis)\n",
    "def search(l,summ):\n",
    "    if summ in l:\n",
    "        return True\n",
    "    else:\n",
    "        return False\n",
    "ans=[]\n",
    "for i in range(n):\n",
    "    for j in range(n):\n",
    "        summ=lis[i]+lis[j]\n",
    "        if i!=j and search(lis,summ):\n",
    "            print(lis[i],lis[j])"
   ]
  },
  {
   "cell_type": "code",
   "execution_count": 21,
   "metadata": {},
   "outputs": [
    {
     "name": "stdout",
     "output_type": "stream",
     "text": [
      "1 2 3\n",
      "2 3 4\n",
      "\n",
      "[['1', '2', '3'], ['2', '3', '4']]\n",
      "3 4\n",
      "2 3\n",
      "1 2"
     ]
    }
   ],
   "source": [
    "#ROTATING MATRIX BY 90 DEGREE\n",
    "mat=[]\n",
    "while(1):\n",
    "    try:\n",
    "        x=list(input().split())\n",
    "        if x==[]:\n",
    "            break\n",
    "    except:\n",
    "        break\n",
    "    mat.append(x)\n",
    "n=len(mat[0])\n",
    "m=len(mat)\n",
    "print(mat)\n",
    "mat2=[]\n",
    "for i in range(n-1,-1,-1):\n",
    "    mat2.append([sub[i] for sub in mat])\n",
    "for i in range(len(mat2)):\n",
    "    for j in range(len(mat2[0])):\n",
    "        if j!=m-1:\n",
    "            print(f\"{mat2[i][j]}\",end=\" \")\n",
    "        else:\n",
    "            print(mat2[i][j],end=\"\")\n",
    "    if i!=n-1:\n",
    "        print(\"\")"
   ]
  },
  {
   "cell_type": "code",
   "execution_count": null,
   "metadata": {},
   "outputs": [],
   "source": []
  },
  {
   "cell_type": "code",
   "execution_count": null,
   "metadata": {},
   "outputs": [],
   "source": []
  }
 ],
 "metadata": {
  "kernelspec": {
   "display_name": "Python 3",
   "language": "python",
   "name": "python3"
  },
  "language_info": {
   "codemirror_mode": {
    "name": "ipython",
    "version": 3
   },
   "file_extension": ".py",
   "mimetype": "text/x-python",
   "name": "python",
   "nbconvert_exporter": "python",
   "pygments_lexer": "ipython3",
   "version": "3.8.3"
  }
 },
 "nbformat": 4,
 "nbformat_minor": 4
}
